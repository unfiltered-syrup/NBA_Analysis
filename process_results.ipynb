{
 "cells": [
  {
   "cell_type": "code",
   "execution_count": 1,
   "metadata": {},
   "outputs": [],
   "source": [
    "import pandas as pd\n",
    "import numpy as np\n",
    "import matplotlib.pyplot as plt\n",
    "import seaborn as sns\n",
    "import os"
   ]
  },
  {
   "cell_type": "code",
   "execution_count": 8,
   "metadata": {},
   "outputs": [
    {
     "data": {
      "text/plain": [
       "array(['CharlotteHornets', 'OklahomaCityThunder', 'MinnesotaTimberwolves',\n",
       "       'ClevelandCavaliers', 'DetroitPistons', 'MemphisGrizzlies',\n",
       "       'NewYorkKnicks', 'LosAngelesLakers', 'AtlantaHawks',\n",
       "       'OrlandoMagic', 'GoldenStateWarriors', 'SanAntonioSpurs',\n",
       "       'SacramentoKings', 'MilwaukeeBucks', 'LosAngelesClippers',\n",
       "       'IndianaPacers', 'DallasMavericks', 'BrooklynNets',\n",
       "       'HoustonRockets', 'PhoenixSuns', 'ChicagoBulls', 'BostonCeltics',\n",
       "       'DenverNuggets', 'MiamiHeat', 'PortlandTrailBlazers',\n",
       "       'TorontoRaptors', 'UtahJazz', 'NewOrleansPelicans',\n",
       "       'Philadelphia76ers'], dtype=object)"
      ]
     },
     "execution_count": 8,
     "metadata": {},
     "output_type": "execute_result"
    }
   ],
   "source": [
    "df = pd.read_csv('fine-tuned/kaggle_tweets/NBADataset2.csv')\n",
    "df['group_name'].unique()"
   ]
  },
  {
   "cell_type": "code",
   "execution_count": 9,
   "metadata": {},
   "outputs": [],
   "source": [
    "import pandas as pd\n",
    "\n",
    "def process_sentiment_data(df):\n",
    "    df['created_at'] = pd.to_datetime(df['created_at'])\n",
    "\n",
    "    df['year_month'] = df['created_at'].dt.to_period('M')\n",
    "\n",
    "    def calculate_percentages(group):\n",
    "        total = group['label_fine_tuned'].count()\n",
    "        percentages = group['label_fine_tuned'].value_counts(normalize=True) * 100\n",
    "        return percentages\n",
    "\n",
    "    result = df.groupby(['group_name', 'year_month']).apply(calculate_percentages).unstack().fillna(0)\n",
    "\n",
    "    result.columns = [f'{col} %' for col in result.columns]\n",
    "\n",
    "    return result.reset_index()\n",
    "\n",
    "processed_df = process_sentiment_data(df)\n",
    "processed_df.to_csv('test_outputs.csv')"
   ]
  }
 ],
 "metadata": {
  "kernelspec": {
   "display_name": "Python 3",
   "language": "python",
   "name": "python3"
  },
  "language_info": {
   "codemirror_mode": {
    "name": "ipython",
    "version": 3
   },
   "file_extension": ".py",
   "mimetype": "text/x-python",
   "name": "python",
   "nbconvert_exporter": "python",
   "pygments_lexer": "ipython3",
   "version": "3.11.3"
  }
 },
 "nbformat": 4,
 "nbformat_minor": 2
}
